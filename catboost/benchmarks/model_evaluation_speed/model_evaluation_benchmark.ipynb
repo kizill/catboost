{
 "cells": [
  {
   "cell_type": "code",
   "execution_count": 1,
   "metadata": {
    "collapsed": true
   },
   "outputs": [],
   "source": [
    "import lightgbm as lgb\n",
    "import pandas as pd\n",
    "import catboost as cb\n",
    "import xgboost as xgb"
   ]
  },
  {
   "cell_type": "code",
   "execution_count": 2,
   "metadata": {
    "collapsed": true
   },
   "outputs": [],
   "source": [
    "import catboost.datasets\n",
    "\n",
    "epsilon = catboost.datasets.epsilon()"
   ]
  },
  {
   "cell_type": "code",
   "execution_count": 3,
   "metadata": {
    "collapsed": false
   },
   "outputs": [
    {
     "data": {
      "text/html": [
       "<div>\n",
       "<style scoped>\n",
       "    .dataframe tbody tr th:only-of-type {\n",
       "        vertical-align: middle;\n",
       "    }\n",
       "\n",
       "    .dataframe tbody tr th {\n",
       "        vertical-align: top;\n",
       "    }\n",
       "\n",
       "    .dataframe thead th {\n",
       "        text-align: right;\n",
       "    }\n",
       "</style>\n",
       "<table border=\"1\" class=\"dataframe\">\n",
       "  <thead>\n",
       "    <tr style=\"text-align: right;\">\n",
       "      <th></th>\n",
       "      <th>0</th>\n",
       "      <th>1</th>\n",
       "      <th>2</th>\n",
       "      <th>3</th>\n",
       "      <th>4</th>\n",
       "      <th>5</th>\n",
       "      <th>6</th>\n",
       "      <th>7</th>\n",
       "      <th>8</th>\n",
       "      <th>9</th>\n",
       "      <th>...</th>\n",
       "      <th>1991</th>\n",
       "      <th>1992</th>\n",
       "      <th>1993</th>\n",
       "      <th>1994</th>\n",
       "      <th>1995</th>\n",
       "      <th>1996</th>\n",
       "      <th>1997</th>\n",
       "      <th>1998</th>\n",
       "      <th>1999</th>\n",
       "      <th>2000</th>\n",
       "    </tr>\n",
       "  </thead>\n",
       "  <tbody>\n",
       "    <tr>\n",
       "      <th>0</th>\n",
       "      <td>-1.0</td>\n",
       "      <td>0.005439</td>\n",
       "      <td>0.013331</td>\n",
       "      <td>-0.002186</td>\n",
       "      <td>-0.014590</td>\n",
       "      <td>0.015632</td>\n",
       "      <td>-0.032606</td>\n",
       "      <td>-0.004455</td>\n",
       "      <td>0.013611</td>\n",
       "      <td>0.024088</td>\n",
       "      <td>...</td>\n",
       "      <td>0.029023</td>\n",
       "      <td>0.028153</td>\n",
       "      <td>-0.001714</td>\n",
       "      <td>-0.048453</td>\n",
       "      <td>-0.030330</td>\n",
       "      <td>-0.006301</td>\n",
       "      <td>-0.022238</td>\n",
       "      <td>-0.009459</td>\n",
       "      <td>0.027544</td>\n",
       "      <td>-0.026216</td>\n",
       "    </tr>\n",
       "    <tr>\n",
       "      <th>1</th>\n",
       "      <td>1.0</td>\n",
       "      <td>0.001442</td>\n",
       "      <td>0.033820</td>\n",
       "      <td>-0.048836</td>\n",
       "      <td>0.000652</td>\n",
       "      <td>-0.028718</td>\n",
       "      <td>0.013421</td>\n",
       "      <td>-0.006827</td>\n",
       "      <td>0.053082</td>\n",
       "      <td>-0.016931</td>\n",
       "      <td>...</td>\n",
       "      <td>-0.016412</td>\n",
       "      <td>0.005543</td>\n",
       "      <td>-0.017588</td>\n",
       "      <td>0.005169</td>\n",
       "      <td>0.037386</td>\n",
       "      <td>-0.002206</td>\n",
       "      <td>0.023466</td>\n",
       "      <td>0.023459</td>\n",
       "      <td>0.036497</td>\n",
       "      <td>0.033899</td>\n",
       "    </tr>\n",
       "    <tr>\n",
       "      <th>2</th>\n",
       "      <td>1.0</td>\n",
       "      <td>0.004597</td>\n",
       "      <td>-0.042784</td>\n",
       "      <td>-0.004416</td>\n",
       "      <td>-0.005693</td>\n",
       "      <td>0.000731</td>\n",
       "      <td>-0.025873</td>\n",
       "      <td>0.031471</td>\n",
       "      <td>0.059522</td>\n",
       "      <td>0.003261</td>\n",
       "      <td>...</td>\n",
       "      <td>-0.020841</td>\n",
       "      <td>-0.030902</td>\n",
       "      <td>0.005387</td>\n",
       "      <td>-0.017727</td>\n",
       "      <td>-0.011851</td>\n",
       "      <td>0.007834</td>\n",
       "      <td>-0.002806</td>\n",
       "      <td>-0.004059</td>\n",
       "      <td>0.024565</td>\n",
       "      <td>-0.001050</td>\n",
       "    </tr>\n",
       "    <tr>\n",
       "      <th>3</th>\n",
       "      <td>-1.0</td>\n",
       "      <td>-0.009080</td>\n",
       "      <td>0.017605</td>\n",
       "      <td>-0.009870</td>\n",
       "      <td>0.007386</td>\n",
       "      <td>0.021338</td>\n",
       "      <td>-0.042682</td>\n",
       "      <td>-0.004471</td>\n",
       "      <td>0.035229</td>\n",
       "      <td>0.037935</td>\n",
       "      <td>...</td>\n",
       "      <td>-0.025915</td>\n",
       "      <td>0.005119</td>\n",
       "      <td>0.022496</td>\n",
       "      <td>-0.005170</td>\n",
       "      <td>-0.023424</td>\n",
       "      <td>-0.026319</td>\n",
       "      <td>-0.036478</td>\n",
       "      <td>-0.036575</td>\n",
       "      <td>-0.002760</td>\n",
       "      <td>-0.021496</td>\n",
       "    </tr>\n",
       "    <tr>\n",
       "      <th>4</th>\n",
       "      <td>1.0</td>\n",
       "      <td>-0.011689</td>\n",
       "      <td>-0.021413</td>\n",
       "      <td>0.012358</td>\n",
       "      <td>-0.012036</td>\n",
       "      <td>-0.009324</td>\n",
       "      <td>-0.023587</td>\n",
       "      <td>0.007309</td>\n",
       "      <td>0.034027</td>\n",
       "      <td>-0.020042</td>\n",
       "      <td>...</td>\n",
       "      <td>0.006731</td>\n",
       "      <td>0.011447</td>\n",
       "      <td>-0.015999</td>\n",
       "      <td>-0.016919</td>\n",
       "      <td>0.047534</td>\n",
       "      <td>-0.004458</td>\n",
       "      <td>0.013541</td>\n",
       "      <td>0.036077</td>\n",
       "      <td>-0.004313</td>\n",
       "      <td>0.008140</td>\n",
       "    </tr>\n",
       "  </tbody>\n",
       "</table>\n",
       "<p>5 rows × 2001 columns</p>\n",
       "</div>"
      ],
      "text/plain": [
       "   0         1         2         3         4         5         6         7     \\\n",
       "0  -1.0  0.005439  0.013331 -0.002186 -0.014590  0.015632 -0.032606 -0.004455   \n",
       "1   1.0  0.001442  0.033820 -0.048836  0.000652 -0.028718  0.013421 -0.006827   \n",
       "2   1.0  0.004597 -0.042784 -0.004416 -0.005693  0.000731 -0.025873  0.031471   \n",
       "3  -1.0 -0.009080  0.017605 -0.009870  0.007386  0.021338 -0.042682 -0.004471   \n",
       "4   1.0 -0.011689 -0.021413  0.012358 -0.012036 -0.009324 -0.023587  0.007309   \n",
       "\n",
       "       8         9     ...      1991      1992      1993      1994      1995  \\\n",
       "0  0.013611  0.024088  ...  0.029023  0.028153 -0.001714 -0.048453 -0.030330   \n",
       "1  0.053082 -0.016931  ... -0.016412  0.005543 -0.017588  0.005169  0.037386   \n",
       "2  0.059522  0.003261  ... -0.020841 -0.030902  0.005387 -0.017727 -0.011851   \n",
       "3  0.035229  0.037935  ... -0.025915  0.005119  0.022496 -0.005170 -0.023424   \n",
       "4  0.034027 -0.020042  ...  0.006731  0.011447 -0.015999 -0.016919  0.047534   \n",
       "\n",
       "       1996      1997      1998      1999      2000  \n",
       "0 -0.006301 -0.022238 -0.009459  0.027544 -0.026216  \n",
       "1 -0.002206  0.023466  0.023459  0.036497  0.033899  \n",
       "2  0.007834 -0.002806 -0.004059  0.024565 -0.001050  \n",
       "3 -0.026319 -0.036478 -0.036575 -0.002760 -0.021496  \n",
       "4 -0.004458  0.013541  0.036077 -0.004313  0.008140  \n",
       "\n",
       "[5 rows x 2001 columns]"
      ]
     },
     "execution_count": 3,
     "metadata": {},
     "output_type": "execute_result"
    }
   ],
   "source": [
    "epsilon[1].head()"
   ]
  },
  {
   "cell_type": "markdown",
   "metadata": {},
   "source": [
    "Load data\n",
    "===="
   ]
  },
  {
   "cell_type": "code",
   "execution_count": 4,
   "metadata": {
    "collapsed": false
   },
   "outputs": [],
   "source": [
    "epsilon_test = epsilon[1] #pd.read_csv('test', header=None, sep='\\t', nrows=100000)"
   ]
  },
  {
   "cell_type": "code",
   "execution_count": 19,
   "metadata": {
    "collapsed": false
   },
   "outputs": [
    {
     "name": "stderr",
     "output_type": "stream",
     "text": [
      "C:\\ProgramData\\Anaconda3\\lib\\site-packages\\xgboost\\core.py:587: FutureWarning: Series.base is deprecated and will be removed in a future version\n",
      "  if getattr(data, 'base', None) is not None and \\\n"
     ]
    }
   ],
   "source": [
    "X_test = epsilon_test.drop(0, axis=1).values\n",
    "x_label = epsilon_test.iloc[:,0].map(lambda x: 1 if x > 0.5 else 0)\n",
    "xgb_test = xgb.DMatrix(X_test, label=x_label)\n"
   ]
  },
  {
   "cell_type": "code",
   "execution_count": null,
   "metadata": {
    "collapsed": false
   },
   "outputs": [],
   "source": []
  },
  {
   "cell_type": "code",
   "execution_count": 20,
   "metadata": {
    "collapsed": false
   },
   "outputs": [],
   "source": [
    "params = {\n",
    "    'nthread': 8,\n",
    "    'tree_method': 'gpu_hist',\n",
    "    'grow_policy ': 'lossguide',\n",
    "    'eta': 0.01,\n",
    "    'max_depth': 8,\n",
    "    'objective': 'binary:logistic'\n",
    "}\n",
    "\n",
    "bst = xgb.train(params, xgb_test)"
   ]
  },
  {
   "cell_type": "code",
   "execution_count": null,
   "metadata": {
    "collapsed": true
   },
   "outputs": [],
   "source": [
    "epsilon_model = cb.CatBoost()\n",
    "catboost_pool = cb.Pool(X_test)\n",
    "print(epsilon_model.tree_count_)"
   ]
  },
  {
   "cell_type": "markdown",
   "metadata": {},
   "source": [
    "8 thread apply\n",
    "===="
   ]
  },
  {
   "cell_type": "code",
   "execution_count": null,
   "metadata": {
    "collapsed": false
   },
   "outputs": [],
   "source": [
    "#bst = xgb.Booster({'nthread': 32})  # set 8 thread in openmp threadpool\n",
    "#bst.load_model('XGBoost.model')  # load data\n",
    "#lgb_model = lgb.Booster(model_file='LightGBM_model.txt')"
   ]
  },
  {
   "cell_type": "code",
   "execution_count": null,
   "metadata": {
    "collapsed": false
   },
   "outputs": [],
   "source": [
    "%timeit -r 5 bst.predict(xgb_test, ntree_limit=8000)"
   ]
  },
  {
   "cell_type": "code",
   "execution_count": null,
   "metadata": {
    "collapsed": false
   },
   "outputs": [],
   "source": [
    "%timeit -r 5 lgb_model.predict(X_test, num_iteration=8000)"
   ]
  },
  {
   "cell_type": "code",
   "execution_count": null,
   "metadata": {
    "collapsed": false
   },
   "outputs": [],
   "source": [
    "%timeit -r 5 epsilon_model.predict(catboost_pool, thread_count=32, ntree_end=8000)"
   ]
  },
  {
   "cell_type": "markdown",
   "metadata": {},
   "source": [
    "1 thread apply\n",
    "===="
   ]
  },
  {
   "cell_type": "code",
   "execution_count": null,
   "metadata": {
    "collapsed": true
   },
   "outputs": [],
   "source": [
    "bst = xgb.Booster({'nthread': 1})  # set 1 thread in openmp threadpool\n",
    "bst.load_model('XGBoost.model')  # load data\n",
    "lgb_model = lgb.Booster(model_file='LightGBM_model.txt')"
   ]
  },
  {
   "cell_type": "code",
   "execution_count": null,
   "metadata": {
    "collapsed": false
   },
   "outputs": [],
   "source": [
    "%time _ = bst.predict(xgb_test, ntree_limit=8000)"
   ]
  },
  {
   "cell_type": "code",
   "execution_count": null,
   "metadata": {
    "collapsed": false
   },
   "outputs": [],
   "source": [
    "%time _ = lgb_model.predict(X_test, num_iteration=8000)"
   ]
  },
  {
   "cell_type": "code",
   "execution_count": null,
   "metadata": {
    "collapsed": false
   },
   "outputs": [],
   "source": [
    "%time _ = epsilon_model.predict(catboost_pool, thread_count=1, ntree_end=8000)"
   ]
  },
  {
   "cell_type": "code",
   "execution_count": null,
   "metadata": {
    "collapsed": true
   },
   "outputs": [],
   "source": [
    "import gc"
   ]
  },
  {
   "cell_type": "code",
   "execution_count": null,
   "metadata": {
    "collapsed": false
   },
   "outputs": [],
   "source": [
    "gc.collect()"
   ]
  },
  {
   "cell_type": "code",
   "execution_count": null,
   "metadata": {
    "collapsed": true
   },
   "outputs": [],
   "source": []
  }
 ],
 "metadata": {
  "kernelspec": {
   "display_name": "Python 3",
   "language": "python",
   "name": "python3"
  },
  "language_info": {
   "codemirror_mode": {
    "name": "ipython",
    "version": 3
   },
   "file_extension": ".py",
   "mimetype": "text/x-python",
   "name": "python",
   "nbconvert_exporter": "python",
   "pygments_lexer": "ipython3",
   "version": "3.6.6"
  }
 },
 "nbformat": 4,
 "nbformat_minor": 2
}
